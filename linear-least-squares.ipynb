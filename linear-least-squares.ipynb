{
 "cells": [
  {
   "cell_type": "markdown",
   "id": "e2e9c651",
   "metadata": {},
   "source": [
    "# Linear Least Squares Regression\n",
    "\n",
    "This notebook will present the Least Squares Regression method on a random dataset."
   ]
  },
  {
   "cell_type": "code",
   "execution_count": 20,
   "id": "33eef691",
   "metadata": {},
   "outputs": [],
   "source": [
    "# General imports\n",
    "import numpy as np\n",
    "import matplotlib.pyplot as plt\n",
    "import scipy as sp\n",
    "import math"
   ]
  },
  {
   "cell_type": "code",
   "execution_count": 32,
   "id": "b4a93396",
   "metadata": {},
   "outputs": [
    {
     "data": {
      "text/plain": [
       "<matplotlib.collections.PathCollection at 0x1e8d2c61340>"
      ]
     },
     "execution_count": 32,
     "metadata": {},
     "output_type": "execute_result"
    },
    {
     "data": {
      "image/png": "[encoded data removed]",
      "text/plain": [
       "<Figure size 432x288 with 1 Axes>"
      ]
     },
     "metadata": {
      "needs_background": "light"
     },
     "output_type": "display_data"
    }
   ],
   "source": [
    "x_point = np.arange(0, 10)\n",
    "y_point = []\n",
    "\n",
    "a = 5\n",
    "b = 2\n",
    "for element in x_point:\n",
    "    y_point.append(a * element + b + np.random.normal(0, 3))\n",
    "    \n",
    "plt.scatter(x_point, y_point)"
   ]
  },
  {
   "cell_type": "markdown",
   "id": "25535d5a",
   "metadata": {},
   "source": [
    "Now that we have a linear function of type `a * x + b`, we have added bias to it from a normal distribution with mean 0 and variance 3.\n",
    "\n",
    "We will now fit the function using the Least Squares Regression"
   ]
  },
  {
   "cell_type": "code",
   "execution_count": 46,
   "id": "5957abde",
   "metadata": {},
   "outputs": [
    {
     "name": "stdout",
     "output_type": "stream",
     "text": [
      "Found m: 5.34 and n: -0.32\n"
     ]
    },
    {
     "data": {
      "text/plain": [
       "[<matplotlib.lines.Line2D at 0x1e8d2e1d160>]"
      ]
     },
     "execution_count": 46,
     "metadata": {},
     "output_type": "execute_result"
    },
    {
     "data": {
      "image/png": "[encoded data removed]",
      "text/plain": [
       "<Figure size 432x288 with 1 Axes>"
      ]
     },
     "metadata": {
      "needs_background": "light"
     },
     "output_type": "display_data"
    }
   ],
   "source": [
    "x_squares = x_point * x_point\n",
    "x_times_y = x_point * y_point\n",
    "\n",
    "# Function of type `y = m*x + n`\n",
    "# Calculate slope m\n",
    "N = x_point.shape[0] # number of elements\n",
    "m = (N * np.sum(x_point * y_point) - np.sum(x_point) * np.sum(y_point)) / (N * np.sum(x_squares) - np.sum(x_point) ** 2) \n",
    "\n",
    "# Calculate intercept n\n",
    "n = (np.sum(y_point) - m * np.sum(x_point)) / N\n",
    "\n",
    "y_hat = m * x_point + n\n",
    "\n",
    "print('Found m: {:2.2f} and n: {:2.2f}'.format(m, n))\n",
    "\n",
    "plt.scatter(x_point, y_point)\n",
    "plt.plot(x_point, y_hat, 'r')"
   ]
  },
  {
   "cell_type": "markdown",
   "id": "dadf483c",
   "metadata": {},
   "source": [
    "With the `m` and `n` coefficients being approximated, the fitted line is presented in the plotted figure above"
   ]
  }
 ],
 "metadata": {
  "kernelspec": {
   "display_name": "Python 3",
   "language": "python",
   "name": "python3"
  },
  "language_info": {
   "codemirror_mode": {
    "name": "ipython",
    "version": 3
   },
   "file_extension": ".py",
   "mimetype": "text/x-python",
   "name": "python",
   "nbconvert_exporter": "python",
   "pygments_lexer": "ipython3",
   "version": "3.9.1"
  }
 },
 "nbformat": 4,
 "nbformat_minor": 5
}
